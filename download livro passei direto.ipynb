{
 "cells": [
  {
   "cell_type": "code",
   "execution_count": 65,
   "id": "7b09fbe4-c655-46d2-b4d1-91b37016e9ac",
   "metadata": {},
   "outputs": [],
   "source": [
    "from bs4 import BeautifulSoup\n",
    "import urllib\n",
    "import os\n",
    "\n",
    "# use this image scraper from the location that \n",
    "#you want to save scraped images to\n",
    "\n",
    "def make_soup(url):\n",
    "    html = urllib.request.urlopen(url).read()\n",
    "    return BeautifulSoup(html)\n",
    "\n",
    "def get_images(url):\n",
    "    global filename\n",
    "    try:\n",
    "        soup = make_soup(url)\n",
    "        #this makes a list of bs4 element tags\n",
    "        images = [img for img in soup.findAll('img')]\n",
    "        \n",
    "        #compile our unicode list of image links\n",
    "        image_links = [each.get('src') for each in images]\n",
    "        for each in image_links:\n",
    "            filename=each.split('/')[-1]\n",
    "            urllib.request.urlretrieve(each, filename)\n",
    "        return filename \n",
    "    except:\n",
    "        pass"
   ]
  },
  {
   "cell_type": "code",
   "execution_count": 68,
   "id": "d27d7f4d-af83-4cde-8d75-6fd66a4b0209",
   "metadata": {},
   "outputs": [],
   "source": [
    "link = input('Insira o link para o .png do livro: \\n').replace('bg1.png','')\n",
    "pages = int(input('Insira o numero de paginas do livro: \\n'))\n",
    "\n",
    "for i in range(1,pages+1):\n",
    "    get_images(link + str(i) + \".html\")\n",
    "    os.rename(filename, str(i)+'.jpg')"
   ]
  },
  {
   "cell_type": "code",
   "execution_count": null,
   "id": "8ff7b56d-cb43-43c5-a4b4-ee033a2c3d4f",
   "metadata": {},
   "outputs": [],
   "source": []
  }
 ],
 "metadata": {
  "kernelspec": {
   "display_name": "Python 3",
   "language": "python",
   "name": "python3"
  },
  "language_info": {
   "codemirror_mode": {
    "name": "ipython",
    "version": 3
   },
   "file_extension": ".py",
   "mimetype": "text/x-python",
   "name": "python",
   "nbconvert_exporter": "python",
   "pygments_lexer": "ipython3",
   "version": "3.8.8"
  }
 },
 "nbformat": 4,
 "nbformat_minor": 5
}

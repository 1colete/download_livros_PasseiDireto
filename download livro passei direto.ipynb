{
 "cells": [
  {
   "cell_type": "code",
   "execution_count": 65,
   "id": "7b09fbe4-c655-46d2-b4d1-91b37016e9ac",
   "metadata": {},
   "outputs": [],
   "source": [
    "from bs4 import BeautifulSoup\n",
    "import urllib\n",
    "import os\n",
    "\n",
    "# use this image scraper from the location that \n",
    "#you want to save scraped images to\n",
    "\n",
    "def make_soup(url):\n",
    "    html = urllib.request.urlopen(url).read()\n",
    "    return BeautifulSoup(html)\n",
    "\n",
    "def get_images(url):\n",
    "    global filename\n",
    "    try:\n",
    "        soup = make_soup(url)\n",
    "        #this makes a list of bs4 element tags\n",
    "        images = [img for img in soup.findAll('img')]\n",
    "#         print (str(len(images)) + \"images found.\")\n",
    "#         print ('Downloading images to current working directory.')\n",
    "        #compile our unicode list of image links\n",
    "        image_links = [each.get('src') for each in images]\n",
    "        for each in image_links:\n",
    "            filename=each.split('/')[-1]\n",
    "            urllib.request.urlretrieve(each, filename)\n",
    "        return filename #image_links\n",
    "    except:\n",
    "        pass\n",
    "\n",
    "#a standard call looks like this\n",
    "#get_images('http://www.wookmark.com')\n"
   ]
  },
  {
   "cell_type": "code",
   "execution_count": 68,
   "id": "d27d7f4d-af83-4cde-8d75-6fd66a4b0209",
   "metadata": {},
   "outputs": [],
   "source": [
    "for i in range(100,430):\n",
    "    get_images(\"https://files.passeidireto.com/a73ca9f2-92f9-451b-9616-058a434a8776/\"+ str(i) + \".html\")\n",
    "    os.rename(filename, str(i)+'.jpg')"
   ]
  },
  {
   "cell_type": "code",
   "execution_count": null,
   "id": "cf76f058-2dca-43cf-8283-b22c4420dd67",
   "metadata": {},
   "outputs": [],
   "source": []
  }
 ],
 "metadata": {
  "kernelspec": {
   "display_name": "Python 3",
   "language": "python",
   "name": "python3"
  },
  "language_info": {
   "codemirror_mode": {
    "name": "ipython",
    "version": 3
   },
   "file_extension": ".py",
   "mimetype": "text/x-python",
   "name": "python",
   "nbconvert_exporter": "python",
   "pygments_lexer": "ipython3",
   "version": "3.8.8"
  }
 },
 "nbformat": 4,
 "nbformat_minor": 5
}
